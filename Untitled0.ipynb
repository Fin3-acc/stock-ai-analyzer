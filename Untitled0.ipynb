{
  "nbformat": 4,
  "nbformat_minor": 0,
  "metadata": {
    "colab": {
      "provenance": [],
      "authorship_tag": "ABX9TyNgvdowcX0vBq1Crb1Jo9mJ",
      "include_colab_link": true
    },
    "kernelspec": {
      "name": "python3",
      "display_name": "Python 3"
    },
    "language_info": {
      "name": "python"
    }
  },
  "cells": [
    {
      "cell_type": "markdown",
      "metadata": {
        "id": "view-in-github",
        "colab_type": "text"
      },
      "source": [
        "<a href=\"https://colab.research.google.com/github/Fin3-acc/stock-ai-analyzer/blob/main/Untitled0.ipynb\" target=\"_parent\"><img src=\"https://colab.research.google.com/assets/colab-badge.svg\" alt=\"Open In Colab\"/></a>"
      ]
    },
    {
      "cell_type": "code",
      "execution_count": 1,
      "metadata": {
        "colab": {
          "base_uri": "https://localhost:8080/"
        },
        "id": "HQrH8df53Ysx",
        "outputId": "da1287f4-6f3c-4b9a-f2d4-83b07ecd20f5"
      },
      "outputs": [
        {
          "output_type": "stream",
          "name": "stdout",
          "text": [
            "✅ 打包完成！点击左侧 Files → 下载 ai_stock_app.zip\n"
          ]
        }
      ],
      "source": [
        "import os\n",
        "from pathlib import Path\n",
        "import shutil\n",
        "\n",
        "# 创建主目录\n",
        "project_dir = Path(\"ai_stock_app\")\n",
        "project_dir.mkdir(exist_ok=True)\n",
        "\n",
        "# streamlit_app.py\n",
        "(project_dir / \"streamlit_app.py\").write_text('''\n",
        "import streamlit as st\n",
        "import pandas as pd\n",
        "import matplotlib.pyplot as plt\n",
        "import yfinance as yf\n",
        "from datetime import date\n",
        "\n",
        "st.set_page_config(page_title=\"📈 AI美股组合\", layout=\"wide\")\n",
        "st.title(\"📈 每日 AI 美股组合推荐\")\n",
        "\n",
        "tickers = ['AAPL', 'MSFT', 'NVDA', 'TSLA']\n",
        "prices = yf.download(tickers, period=\"6mo\")['Adj Close']\n",
        "today = date.today()\n",
        "\n",
        "for ticker in tickers:\n",
        "    st.subheader(f\"📌 {ticker} 走势图\")\n",
        "    data = prices[ticker]\n",
        "    fig, ax = plt.subplots(figsize=(6, 3))\n",
        "    ax.plot(data.index, data.values)\n",
        "    st.pyplot(fig)\n",
        "''')\n",
        "\n",
        "# daily_ai_portfolio_email.py\n",
        "(project_dir / \"daily_ai_portfolio_email.py\").write_text('''\n",
        "import smtplib\n",
        "from email.mime.multipart import MIMEMultipart\n",
        "from email.mime.text import MIMEText\n",
        "\n",
        "SMTP_SERVER = 'smtp.gmail.com'\n",
        "SMTP_PORT = 587\n",
        "EMAIL_ADDRESS = 'your_email@gmail.com'\n",
        "EMAIL_PASSWORD = 'your_app_password'\n",
        "RECIPIENT_EMAIL = 'recipient@example.com'\n",
        "\n",
        "def send_email(subject, body):\n",
        "    msg = MIMEMultipart()\n",
        "    msg['From'] = EMAIL_ADDRESS\n",
        "    msg['To'] = RECIPIENT_EMAIL\n",
        "    msg['Subject'] = subject\n",
        "    msg.attach(MIMEText(body, 'plain'))\n",
        "\n",
        "    with smtplib.SMTP(SMTP_SERVER, SMTP_PORT) as server:\n",
        "        server.starttls()\n",
        "        server.login(EMAIL_ADDRESS, EMAIL_PASSWORD)\n",
        "        server.send_message(msg)\n",
        "''')\n",
        "\n",
        "# 股票池\n",
        "(project_dir / \"spy_components.csv\").write_text(\"Symbol\\nAAPL\\nMSFT\\nNVDA\\nTSLA\\nGOOGL\")\n",
        "\n",
        "# requirements.txt\n",
        "(project_dir / \"requirements.txt\").write_text(\"streamlit\\nyfinance\\npandas\\nnumpy\\nmatplotlib\\nscikit-learn\")\n",
        "\n",
        "# README.md\n",
        "(project_dir / \"README.md\").write_text('''\n",
        "# AI Stock Portfolio Recommender\n",
        "\n",
        "AI选股 + 邮件通知 + Streamlit 前端展示\n",
        "\n",
        "## 启动命令\n",
        "\n",
        "```bash\n",
        "pip install -r requirements.txt\n",
        "streamlit run streamlit_app.py\n",
        "''')\n",
        "\n",
        "# .env.template 文件\n",
        "(project_dir / \".env.template\").write_text(\"EMAIL_ADDRESS=\\nEMAIL_PASSWORD=\\nRECIPIENT_EMAIL=\\n\")\n",
        "\n",
        "# Streamlit 配置\n",
        "streamlit_conf = project_dir / \".streamlit\"\n",
        "streamlit_conf.mkdir(parents=True, exist_ok=True)\n",
        "(streamlit_conf / \"config.toml\").write_text('''\n",
        "[theme]\n",
        "base=\"light\"\n",
        "primaryColor=\"#3366cc\"\n",
        "backgroundColor=\"#f4f6f8\"\n",
        "secondaryBackgroundColor=\"#e1e8ed\"\n",
        "textColor=\"#0f1116\"\n",
        "font=\"sans serif\"\n",
        "''')\n",
        "\n",
        "# 打包 zip\n",
        "shutil.make_archive(\"ai_stock_app\", 'zip', project_dir)\n",
        "print(\"✅ 打包完成！点击左侧 Files → 下载 ai_stock_app.zip\")"
      ]
    }
  ]
}